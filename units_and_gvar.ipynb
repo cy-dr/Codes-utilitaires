{
 "cells": [
  {
   "cell_type": "code",
   "execution_count": 2,
   "id": "5afa0cca-e1c9-4d18-abf4-2bff03c9a4ad",
   "metadata": {},
   "outputs": [],
   "source": [
    "import numpy as np\n",
    "import gvar\n",
    "from astropy import units as u"
   ]
  },
  {
   "cell_type": "markdown",
   "id": "b8f154af-529a-40f7-90aa-a59079e15987",
   "metadata": {},
   "source": [
    "On mesure le rayon de la bulle dans ds9 en prennant un cercle maximum et un cercle minimum (en unités de degrés)."
   ]
  },
  {
   "cell_type": "code",
   "execution_count": 33,
   "id": "191b6bba-a8a9-433c-b7f6-2faa96ff6b89",
   "metadata": {},
   "outputs": [],
   "source": [
    "rmin = 0.0365038\n",
    "rmax = 0.0568768\n",
    "#Afin de pouvoir utiliser gvar avec les unités astropy, il faut respecter l'ordre unité*gvar number.\n",
    "r = 1*u.deg*gvar.gvar((rmax+rmin)/2, (rmax-rmin)/2) #deg\n",
    "d = 3.67e3 *u.pc"
   ]
  },
  {
   "cell_type": "code",
   "execution_count": 15,
   "id": "19c17174-b723-42ff-a244-0006dd28dc5f",
   "metadata": {},
   "outputs": [
    {
     "data": {
      "text/latex": [
       "$1.1324437 \\times 10^{17} \\; \\mathrm{km}$"
      ],
      "text/plain": [
       "<Quantity 1.13244367e+17 km>"
      ]
     },
     "execution_count": 15,
     "metadata": {},
     "output_type": "execute_result"
    }
   ],
   "source": [
    "d.to(u.km)"
   ]
  },
  {
   "cell_type": "code",
   "execution_count": 34,
   "id": "109a92eb-83d6-4d0b-8dee-d001a49ecc14",
   "metadata": {},
   "outputs": [],
   "source": [
    "radius = d.to(u.km)*np.tan(r.to(u.rad))"
   ]
  },
  {
   "cell_type": "code",
   "execution_count": 35,
   "id": "2367a97b-e327-411a-976d-b47ba7de7104",
   "metadata": {},
   "outputs": [
    {
     "data": {
      "text/latex": [
       "$9.2(2.0)e+13 \\; \\mathrm{km}$"
      ],
      "text/plain": [
       "<Quantity 9.2(2.0)e+13 km>"
      ]
     },
     "execution_count": 35,
     "metadata": {},
     "output_type": "execute_result"
    }
   ],
   "source": [
    "radius"
   ]
  },
  {
   "cell_type": "code",
   "execution_count": 25,
   "id": "99a8d7f9-8eb0-4905-b0d2-55b16e7a27da",
   "metadata": {},
   "outputs": [],
   "source": [
    "vexp = 1*u.km/u.s * gvar.gvar((15+30)/2, (30-15)/2)"
   ]
  },
  {
   "cell_type": "code",
   "execution_count": 26,
   "id": "2c0dc6b3-2cee-432e-9109-7796a6d44a87",
   "metadata": {},
   "outputs": [
    {
     "data": {
      "text/latex": [
       "$22.5(7.5) \\; \\mathrm{\\frac{km}{s}}$"
      ],
      "text/plain": [
       "<Quantity 22.5(7.5) km / s>"
      ]
     },
     "execution_count": 26,
     "metadata": {},
     "output_type": "execute_result"
    }
   ],
   "source": [
    "vexp"
   ]
  },
  {
   "cell_type": "code",
   "execution_count": 27,
   "id": "fb5e2d56-4e54-43e4-8d65-c6def8c83d07",
   "metadata": {},
   "outputs": [],
   "source": [
    "age = radius/vexp"
   ]
  },
  {
   "cell_type": "code",
   "execution_count": 29,
   "id": "b6de2447-d7cc-4197-9b55-274c50a6b21e",
   "metadata": {},
   "outputs": [
    {
     "data": {
      "text/latex": [
       "$129967(51777) \\; \\mathrm{yr}$"
      ],
      "text/plain": [
       "<Quantity 129967(51777) yr>"
      ]
     },
     "execution_count": 29,
     "metadata": {},
     "output_type": "execute_result"
    }
   ],
   "source": [
    "age.to(u.year)"
   ]
  },
  {
   "cell_type": "code",
   "execution_count": 39,
   "id": "0a23f1e6-b056-4ed9-b08a-c72f06d6c54e",
   "metadata": {},
   "outputs": [
    {
     "name": "stdout",
     "output_type": "stream",
     "text": [
      "129967.34657139359 ± 51776.94607968546 yr\n"
     ]
    }
   ],
   "source": [
    "print(age.to(u.year).value.mean, '±', age.to(u.year).value.sdev,age.to(u.year).unit)"
   ]
  },
  {
   "cell_type": "markdown",
   "id": "cf5028c4-861a-4459-95a2-cdd10205865b",
   "metadata": {},
   "source": [
    "Si quelqu'un sait comment coder la dernière ligne pour que ça affiche arrondi comme 130 000 ± 50 000 yr, ça serait super!"
   ]
  }
 ],
 "metadata": {
  "kernelspec": {
   "display_name": "Python 3 (ipykernel)",
   "language": "python",
   "name": "python3"
  },
  "language_info": {
   "codemirror_mode": {
    "name": "ipython",
    "version": 3
   },
   "file_extension": ".py",
   "mimetype": "text/x-python",
   "name": "python",
   "nbconvert_exporter": "python",
   "pygments_lexer": "ipython3",
   "version": "3.10.8"
  }
 },
 "nbformat": 4,
 "nbformat_minor": 5
}
