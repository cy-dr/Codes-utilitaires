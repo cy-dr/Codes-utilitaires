{
 "cells": [
  {
   "cell_type": "code",
   "execution_count": 1,
   "id": "baefb125-6a89-4ff4-b32c-78bb6463c171",
   "metadata": {
    "tags": []
   },
   "outputs": [],
   "source": [
    "import numpy as np\n",
    "import matplotlib.pyplot as plt\n",
    "import astropy.units as u\n",
    "from astropy.coordinates import SkyCoord\n",
    "from astropy.coordinates import FK5"
   ]
  },
  {
   "cell_type": "markdown",
   "id": "004cfe6e-4a13-4022-8ce8-1c40c02d184d",
   "metadata": {},
   "source": [
    "On convertit la coordonnée de référence de J1950 à J2000. ra = 7h16m0, dec = -13°06'"
   ]
  },
  {
   "cell_type": "code",
   "execution_count": 4,
   "id": "046328aa-0d42-4019-a5e0-a8e2ee512b54",
   "metadata": {
    "tags": []
   },
   "outputs": [],
   "source": [
    "c1950 = SkyCoord('7h16m0s', '-13d06m', frame=FK5, equinox='J1950.0')\n",
    "c2000 = c1950.transform_to(FK5(equinox='J2000'))"
   ]
  },
  {
   "cell_type": "code",
   "execution_count": 8,
   "id": "a75ca307-402a-41a3-85b3-c96f61bd8747",
   "metadata": {
    "tags": []
   },
   "outputs": [
    {
     "data": {
      "text/plain": [
       "<SkyCoord (FK5: equinox=J2000.000): (ra, dec) in deg\n",
       "    (109.5791141, -13.19196689)>"
      ]
     },
     "execution_count": 8,
     "metadata": {},
     "output_type": "execute_result"
    }
   ],
   "source": [
    "c2000"
   ]
  },
  {
   "cell_type": "code",
   "execution_count": 16,
   "id": "ab71d771-ca1e-4e04-8ae9-691e756f92dc",
   "metadata": {
    "tags": []
   },
   "outputs": [
    {
     "data": {
      "text/plain": [
       "'07h18m18.98738328s -13d11m31.08081234s'"
      ]
     },
     "execution_count": 16,
     "metadata": {},
     "output_type": "execute_result"
    }
   ],
   "source": [
    "c2000.to_string('hmsdms')"
   ]
  }
 ],
 "metadata": {
  "kernelspec": {
   "display_name": "Python 3 (ipykernel)",
   "language": "python",
   "name": "python3"
  },
  "language_info": {
   "codemirror_mode": {
    "name": "ipython",
    "version": 3
   },
   "file_extension": ".py",
   "mimetype": "text/x-python",
   "name": "python",
   "nbconvert_exporter": "python",
   "pygments_lexer": "ipython3",
   "version": "3.8.18"
  }
 },
 "nbformat": 4,
 "nbformat_minor": 5
}
